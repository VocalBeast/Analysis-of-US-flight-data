{
 "cells": [
  {
   "cell_type": "markdown",
   "id": "f4e5f466",
   "metadata": {},
   "source": [
    "# (b) - Evaluating whether older planes suffer more delays on a year-to-year basis"
   ]
  },
  {
   "cell_type": "code",
   "execution_count": 1,
   "id": "b7bf7005",
   "metadata": {},
   "outputs": [],
   "source": [
    "import numpy as np\n",
    "import pandas as pd\n",
    "import matplotlib.pyplot as plt\n",
    "import seaborn as sns\n"
   ]
  },
  {
   "cell_type": "code",
   "execution_count": 2,
   "id": "4e3c1e5c",
   "metadata": {},
   "outputs": [],
   "source": [
    "plane_data = pd.read_csv(r'/Users/Pavan/Documents/3rd year SGs and material/Programming for data science/Coursework Datasets/plane-data.csv',usecols = ['tailnum','year'])"
   ]
  },
  {
   "cell_type": "code",
   "execution_count": 3,
   "id": "84f75844",
   "metadata": {},
   "outputs": [],
   "source": [
    "df1 = pd.read_csv(r'/Users/Pavan/Documents/3rd year SGs and material/Programming for data science/Coursework Datasets/2006.csv',usecols = ['TailNum','ArrDelay','DepDelay'])\n",
    "df2 = pd.read_csv(r'/Users/Pavan/Documents/3rd year SGs and material/Programming for data science/Coursework Datasets/2007.csv',usecols = ['TailNum','ArrDelay','DepDelay'])\n",
    "main_dataset = pd.concat([df1,df2])\n",
    "del df1, df2"
   ]
  },
  {
   "cell_type": "code",
   "execution_count": 4,
   "id": "36028edc",
   "metadata": {},
   "outputs": [
    {
     "data": {
      "text/html": [
       "<div>\n",
       "<style scoped>\n",
       "    .dataframe tbody tr th:only-of-type {\n",
       "        vertical-align: middle;\n",
       "    }\n",
       "\n",
       "    .dataframe tbody tr th {\n",
       "        vertical-align: top;\n",
       "    }\n",
       "\n",
       "    .dataframe thead th {\n",
       "        text-align: right;\n",
       "    }\n",
       "</style>\n",
       "<table border=\"1\" class=\"dataframe\">\n",
       "  <thead>\n",
       "    <tr style=\"text-align: right;\">\n",
       "      <th></th>\n",
       "      <th>TailNum</th>\n",
       "      <th>ArrDelay</th>\n",
       "      <th>DepDelay</th>\n",
       "    </tr>\n",
       "  </thead>\n",
       "  <tbody>\n",
       "    <tr>\n",
       "      <th>0</th>\n",
       "      <td>N657AW</td>\n",
       "      <td>6.0</td>\n",
       "      <td>-2.0</td>\n",
       "    </tr>\n",
       "    <tr>\n",
       "      <th>1</th>\n",
       "      <td>N834AW</td>\n",
       "      <td>-5.0</td>\n",
       "      <td>0.0</td>\n",
       "    </tr>\n",
       "    <tr>\n",
       "      <th>2</th>\n",
       "      <td>N605AW</td>\n",
       "      <td>-23.0</td>\n",
       "      <td>0.0</td>\n",
       "    </tr>\n",
       "    <tr>\n",
       "      <th>3</th>\n",
       "      <td>N312AW</td>\n",
       "      <td>-8.0</td>\n",
       "      <td>-2.0</td>\n",
       "    </tr>\n",
       "    <tr>\n",
       "      <th>4</th>\n",
       "      <td>N309AW</td>\n",
       "      <td>0.0</td>\n",
       "      <td>-8.0</td>\n",
       "    </tr>\n",
       "  </tbody>\n",
       "</table>\n",
       "</div>"
      ],
      "text/plain": [
       "  TailNum  ArrDelay  DepDelay\n",
       "0  N657AW       6.0      -2.0\n",
       "1  N834AW      -5.0       0.0\n",
       "2  N605AW     -23.0       0.0\n",
       "3  N312AW      -8.0      -2.0\n",
       "4  N309AW       0.0      -8.0"
      ]
     },
     "execution_count": 4,
     "metadata": {},
     "output_type": "execute_result"
    }
   ],
   "source": [
    "main_dataset.head()"
   ]
  },
  {
   "cell_type": "code",
   "execution_count": 5,
   "id": "e44f28ff",
   "metadata": {},
   "outputs": [
    {
     "data": {
      "text/plain": [
       "0.9258279051569631"
      ]
     },
     "execution_count": 5,
     "metadata": {},
     "output_type": "execute_result"
    }
   ],
   "source": [
    "correlation = main_dataset['ArrDelay'].corr(main_dataset['DepDelay'])\n",
    "correlation"
   ]
  },
  {
   "cell_type": "code",
   "execution_count": 6,
   "id": "4db37f2c",
   "metadata": {},
   "outputs": [
    {
     "data": {
      "text/html": [
       "<div>\n",
       "<style scoped>\n",
       "    .dataframe tbody tr th:only-of-type {\n",
       "        vertical-align: middle;\n",
       "    }\n",
       "\n",
       "    .dataframe tbody tr th {\n",
       "        vertical-align: top;\n",
       "    }\n",
       "\n",
       "    .dataframe thead th {\n",
       "        text-align: right;\n",
       "    }\n",
       "</style>\n",
       "<table border=\"1\" class=\"dataframe\">\n",
       "  <thead>\n",
       "    <tr style=\"text-align: right;\">\n",
       "      <th></th>\n",
       "      <th>TailNum</th>\n",
       "      <th>DepDelay</th>\n",
       "    </tr>\n",
       "  </thead>\n",
       "  <tbody>\n",
       "    <tr>\n",
       "      <th>0</th>\n",
       "      <td>N657AW</td>\n",
       "      <td>-2.0</td>\n",
       "    </tr>\n",
       "    <tr>\n",
       "      <th>1</th>\n",
       "      <td>N834AW</td>\n",
       "      <td>0.0</td>\n",
       "    </tr>\n",
       "    <tr>\n",
       "      <th>2</th>\n",
       "      <td>N605AW</td>\n",
       "      <td>0.0</td>\n",
       "    </tr>\n",
       "    <tr>\n",
       "      <th>3</th>\n",
       "      <td>N312AW</td>\n",
       "      <td>-2.0</td>\n",
       "    </tr>\n",
       "    <tr>\n",
       "      <th>4</th>\n",
       "      <td>N309AW</td>\n",
       "      <td>-8.0</td>\n",
       "    </tr>\n",
       "  </tbody>\n",
       "</table>\n",
       "</div>"
      ],
      "text/plain": [
       "  TailNum  DepDelay\n",
       "0  N657AW      -2.0\n",
       "1  N834AW       0.0\n",
       "2  N605AW       0.0\n",
       "3  N312AW      -2.0\n",
       "4  N309AW      -8.0"
      ]
     },
     "execution_count": 6,
     "metadata": {},
     "output_type": "execute_result"
    }
   ],
   "source": [
    "#Since we observe a high correlation between ArrDelay and DepDelay, we shall only consider DepDelay in this question\n",
    "#Hence we will drop the ArrDelay column\n",
    "main_dataset.drop(columns=['ArrDelay'], inplace=True)\n",
    "main_dataset.head()"
   ]
  },
  {
   "cell_type": "code",
   "execution_count": 7,
   "id": "b1c411e1",
   "metadata": {},
   "outputs": [],
   "source": [
    "#Filtering for the records that have a positive DepDelay value, which implies they were delayed in departure\n",
    "main_dataset = main_dataset[main_dataset['DepDelay'] > 0]"
   ]
  },
  {
   "cell_type": "code",
   "execution_count": 8,
   "id": "b696f09c",
   "metadata": {},
   "outputs": [
    {
     "data": {
      "text/plain": [
       "TailNum     0\n",
       "DepDelay    0\n",
       "dtype: int64"
      ]
     },
     "execution_count": 8,
     "metadata": {},
     "output_type": "execute_result"
    }
   ],
   "source": [
    "pd.isnull(main_dataset).sum(axis = 0)"
   ]
  },
  {
   "cell_type": "code",
   "execution_count": 9,
   "id": "e7b84b77",
   "metadata": {},
   "outputs": [
    {
     "data": {
      "text/plain": [
       "tailnum      0\n",
       "year       549\n",
       "dtype: int64"
      ]
     },
     "execution_count": 9,
     "metadata": {},
     "output_type": "execute_result"
    }
   ],
   "source": [
    "pd.isnull(plane_data).sum(axis = 0)"
   ]
  },
  {
   "cell_type": "code",
   "execution_count": 10,
   "id": "cb7d03a9",
   "metadata": {},
   "outputs": [],
   "source": [
    "#dropping null values\n",
    "plane_data = plane_data.dropna (subset = ['year'])"
   ]
  },
  {
   "cell_type": "code",
   "execution_count": 11,
   "id": "b738060b",
   "metadata": {},
   "outputs": [
    {
     "data": {
      "text/plain": [
       "tailnum    0\n",
       "year       0\n",
       "dtype: int64"
      ]
     },
     "execution_count": 11,
     "metadata": {},
     "output_type": "execute_result"
    }
   ],
   "source": [
    "pd.isnull(plane_data).sum(axis = 0)"
   ]
  },
  {
   "cell_type": "code",
   "execution_count": 12,
   "id": "3b735977",
   "metadata": {},
   "outputs": [
    {
     "data": {
      "text/html": [
       "<div>\n",
       "<style scoped>\n",
       "    .dataframe tbody tr th:only-of-type {\n",
       "        vertical-align: middle;\n",
       "    }\n",
       "\n",
       "    .dataframe tbody tr th {\n",
       "        vertical-align: top;\n",
       "    }\n",
       "\n",
       "    .dataframe thead th {\n",
       "        text-align: right;\n",
       "    }\n",
       "</style>\n",
       "<table border=\"1\" class=\"dataframe\">\n",
       "  <thead>\n",
       "    <tr style=\"text-align: right;\">\n",
       "      <th></th>\n",
       "      <th>tailnum</th>\n",
       "      <th>year</th>\n",
       "    </tr>\n",
       "  </thead>\n",
       "  <tbody>\n",
       "    <tr>\n",
       "      <th>34</th>\n",
       "      <td>N10156</td>\n",
       "      <td>2004</td>\n",
       "    </tr>\n",
       "    <tr>\n",
       "      <th>35</th>\n",
       "      <td>N102UW</td>\n",
       "      <td>1998</td>\n",
       "    </tr>\n",
       "    <tr>\n",
       "      <th>36</th>\n",
       "      <td>N10323</td>\n",
       "      <td>1986</td>\n",
       "    </tr>\n",
       "    <tr>\n",
       "      <th>37</th>\n",
       "      <td>N103US</td>\n",
       "      <td>1999</td>\n",
       "    </tr>\n",
       "    <tr>\n",
       "      <th>38</th>\n",
       "      <td>N104UA</td>\n",
       "      <td>1998</td>\n",
       "    </tr>\n",
       "  </tbody>\n",
       "</table>\n",
       "</div>"
      ],
      "text/plain": [
       "   tailnum  year\n",
       "34  N10156  2004\n",
       "35  N102UW  1998\n",
       "36  N10323  1986\n",
       "37  N103US  1999\n",
       "38  N104UA  1998"
      ]
     },
     "execution_count": 12,
     "metadata": {},
     "output_type": "execute_result"
    }
   ],
   "source": [
    "plane_data.head()"
   ]
  },
  {
   "cell_type": "code",
   "execution_count": 13,
   "id": "8fb59344",
   "metadata": {},
   "outputs": [
    {
     "data": {
      "text/plain": [
       "2001    389\n",
       "2000    341\n",
       "1999    320\n",
       "2002    306\n",
       "2003    266\n",
       "1998    248\n",
       "2004    240\n",
       "2005    193\n",
       "1991    156\n",
       "2006    152\n",
       "1988    148\n",
       "1992    146\n",
       "None    145\n",
       "1990    145\n",
       "1997    134\n",
       "1987    131\n",
       "1989    110\n",
       "1996    109\n",
       "2007    107\n",
       "1994    103\n",
       "1995    101\n",
       "1993    100\n",
       "1986     92\n",
       "1985     84\n",
       "2008     37\n",
       "1984     27\n",
       "1968     24\n",
       "1983     18\n",
       "1967     16\n",
       "1969     12\n",
       "1979     11\n",
       "1975     10\n",
       "1980      8\n",
       "1976      8\n",
       "1978      8\n",
       "1977      6\n",
       "1982      6\n",
       "0000      3\n",
       "1973      3\n",
       "1959      2\n",
       "1963      2\n",
       "1974      2\n",
       "1970      2\n",
       "1956      1\n",
       "1972      1\n",
       "1962      1\n",
       "1957      1\n",
       "1964      1\n",
       "1965      1\n",
       "1946      1\n",
       "1966      1\n",
       "1971      1\n",
       "Name: year, dtype: int64"
      ]
     },
     "execution_count": 13,
     "metadata": {},
     "output_type": "execute_result"
    }
   ],
   "source": [
    "#Checking for values of year to make sure that given year values are of proper form\n",
    "plane_data.year.value_counts()"
   ]
  },
  {
   "cell_type": "code",
   "execution_count": 14,
   "id": "a8af2018",
   "metadata": {},
   "outputs": [],
   "source": [
    "#To remove the 0000 and None records\n",
    "plane_data = plane_data[plane_data['year'] != '0000']\n",
    "plane_data = plane_data[plane_data['year'] != 'None']"
   ]
  },
  {
   "cell_type": "code",
   "execution_count": 15,
   "id": "6ba3a74a",
   "metadata": {},
   "outputs": [
    {
     "data": {
      "text/plain": [
       "2001    389\n",
       "2000    341\n",
       "1999    320\n",
       "2002    306\n",
       "2003    266\n",
       "1998    248\n",
       "2004    240\n",
       "2005    193\n",
       "1991    156\n",
       "2006    152\n",
       "1988    148\n",
       "1992    146\n",
       "1990    145\n",
       "1997    134\n",
       "1987    131\n",
       "1989    110\n",
       "1996    109\n",
       "2007    107\n",
       "1994    103\n",
       "1995    101\n",
       "1993    100\n",
       "1986     92\n",
       "1985     84\n",
       "2008     37\n",
       "1984     27\n",
       "1968     24\n",
       "1983     18\n",
       "1967     16\n",
       "1969     12\n",
       "1979     11\n",
       "1975     10\n",
       "1980      8\n",
       "1976      8\n",
       "1978      8\n",
       "1977      6\n",
       "1982      6\n",
       "1973      3\n",
       "1970      2\n",
       "1974      2\n",
       "1963      2\n",
       "1959      2\n",
       "1966      1\n",
       "1946      1\n",
       "1964      1\n",
       "1972      1\n",
       "1962      1\n",
       "1956      1\n",
       "1957      1\n",
       "1965      1\n",
       "1971      1\n",
       "Name: year, dtype: int64"
      ]
     },
     "execution_count": 15,
     "metadata": {},
     "output_type": "execute_result"
    }
   ],
   "source": [
    "plane_data.year.value_counts()"
   ]
  },
  {
   "cell_type": "code",
   "execution_count": 16,
   "id": "78bb3976",
   "metadata": {},
   "outputs": [],
   "source": [
    "#Modifying the column name of tailnum in plane_data to TailNum, so inner merge can take place\n",
    "plane_data = plane_data.rename(columns = {'tailnum': 'TailNum'})"
   ]
  },
  {
   "cell_type": "code",
   "execution_count": 17,
   "id": "e1ba9fc3",
   "metadata": {},
   "outputs": [
    {
     "data": {
      "text/html": [
       "<div>\n",
       "<style scoped>\n",
       "    .dataframe tbody tr th:only-of-type {\n",
       "        vertical-align: middle;\n",
       "    }\n",
       "\n",
       "    .dataframe tbody tr th {\n",
       "        vertical-align: top;\n",
       "    }\n",
       "\n",
       "    .dataframe thead th {\n",
       "        text-align: right;\n",
       "    }\n",
       "</style>\n",
       "<table border=\"1\" class=\"dataframe\">\n",
       "  <thead>\n",
       "    <tr style=\"text-align: right;\">\n",
       "      <th></th>\n",
       "      <th>TailNum</th>\n",
       "      <th>year</th>\n",
       "    </tr>\n",
       "  </thead>\n",
       "  <tbody>\n",
       "    <tr>\n",
       "      <th>34</th>\n",
       "      <td>N10156</td>\n",
       "      <td>2004</td>\n",
       "    </tr>\n",
       "    <tr>\n",
       "      <th>35</th>\n",
       "      <td>N102UW</td>\n",
       "      <td>1998</td>\n",
       "    </tr>\n",
       "    <tr>\n",
       "      <th>36</th>\n",
       "      <td>N10323</td>\n",
       "      <td>1986</td>\n",
       "    </tr>\n",
       "    <tr>\n",
       "      <th>37</th>\n",
       "      <td>N103US</td>\n",
       "      <td>1999</td>\n",
       "    </tr>\n",
       "    <tr>\n",
       "      <th>38</th>\n",
       "      <td>N104UA</td>\n",
       "      <td>1998</td>\n",
       "    </tr>\n",
       "  </tbody>\n",
       "</table>\n",
       "</div>"
      ],
      "text/plain": [
       "   TailNum  year\n",
       "34  N10156  2004\n",
       "35  N102UW  1998\n",
       "36  N10323  1986\n",
       "37  N103US  1999\n",
       "38  N104UA  1998"
      ]
     },
     "execution_count": 17,
     "metadata": {},
     "output_type": "execute_result"
    }
   ],
   "source": [
    "plane_data.head()"
   ]
  },
  {
   "cell_type": "code",
   "execution_count": 18,
   "id": "004710b4",
   "metadata": {},
   "outputs": [],
   "source": [
    "Main_df = main = pd.merge(main_dataset, plane_data, on = 'TailNum', how = 'inner')"
   ]
  },
  {
   "cell_type": "code",
   "execution_count": 19,
   "id": "1f09aae8",
   "metadata": {},
   "outputs": [
    {
     "data": {
      "text/html": [
       "<div>\n",
       "<style scoped>\n",
       "    .dataframe tbody tr th:only-of-type {\n",
       "        vertical-align: middle;\n",
       "    }\n",
       "\n",
       "    .dataframe tbody tr th {\n",
       "        vertical-align: top;\n",
       "    }\n",
       "\n",
       "    .dataframe thead th {\n",
       "        text-align: right;\n",
       "    }\n",
       "</style>\n",
       "<table border=\"1\" class=\"dataframe\">\n",
       "  <thead>\n",
       "    <tr style=\"text-align: right;\">\n",
       "      <th></th>\n",
       "      <th>TailNum</th>\n",
       "      <th>DepDelay</th>\n",
       "      <th>year</th>\n",
       "    </tr>\n",
       "  </thead>\n",
       "  <tbody>\n",
       "    <tr>\n",
       "      <th>0</th>\n",
       "      <td>N425US</td>\n",
       "      <td>1.0</td>\n",
       "      <td>1989</td>\n",
       "    </tr>\n",
       "    <tr>\n",
       "      <th>1</th>\n",
       "      <td>N425US</td>\n",
       "      <td>1.0</td>\n",
       "      <td>1989</td>\n",
       "    </tr>\n",
       "    <tr>\n",
       "      <th>2</th>\n",
       "      <td>N425US</td>\n",
       "      <td>33.0</td>\n",
       "      <td>1989</td>\n",
       "    </tr>\n",
       "    <tr>\n",
       "      <th>3</th>\n",
       "      <td>N425US</td>\n",
       "      <td>22.0</td>\n",
       "      <td>1989</td>\n",
       "    </tr>\n",
       "    <tr>\n",
       "      <th>4</th>\n",
       "      <td>N425US</td>\n",
       "      <td>42.0</td>\n",
       "      <td>1989</td>\n",
       "    </tr>\n",
       "    <tr>\n",
       "      <th>...</th>\n",
       "      <td>...</td>\n",
       "      <td>...</td>\n",
       "      <td>...</td>\n",
       "    </tr>\n",
       "    <tr>\n",
       "      <th>4857487</th>\n",
       "      <td>N665JB</td>\n",
       "      <td>4.0</td>\n",
       "      <td>2007</td>\n",
       "    </tr>\n",
       "    <tr>\n",
       "      <th>4857488</th>\n",
       "      <td>N665JB</td>\n",
       "      <td>37.0</td>\n",
       "      <td>2007</td>\n",
       "    </tr>\n",
       "    <tr>\n",
       "      <th>4857489</th>\n",
       "      <td>N665JB</td>\n",
       "      <td>11.0</td>\n",
       "      <td>2007</td>\n",
       "    </tr>\n",
       "    <tr>\n",
       "      <th>4857490</th>\n",
       "      <td>N665JB</td>\n",
       "      <td>3.0</td>\n",
       "      <td>2007</td>\n",
       "    </tr>\n",
       "    <tr>\n",
       "      <th>4857491</th>\n",
       "      <td>N665JB</td>\n",
       "      <td>5.0</td>\n",
       "      <td>2007</td>\n",
       "    </tr>\n",
       "  </tbody>\n",
       "</table>\n",
       "<p>4857492 rows × 3 columns</p>\n",
       "</div>"
      ],
      "text/plain": [
       "        TailNum  DepDelay  year\n",
       "0        N425US       1.0  1989\n",
       "1        N425US       1.0  1989\n",
       "2        N425US      33.0  1989\n",
       "3        N425US      22.0  1989\n",
       "4        N425US      42.0  1989\n",
       "...         ...       ...   ...\n",
       "4857487  N665JB       4.0  2007\n",
       "4857488  N665JB      37.0  2007\n",
       "4857489  N665JB      11.0  2007\n",
       "4857490  N665JB       3.0  2007\n",
       "4857491  N665JB       5.0  2007\n",
       "\n",
       "[4857492 rows x 3 columns]"
      ]
     },
     "execution_count": 19,
     "metadata": {},
     "output_type": "execute_result"
    }
   ],
   "source": [
    "Main_df"
   ]
  },
  {
   "cell_type": "code",
   "execution_count": 20,
   "id": "16c0cbd6",
   "metadata": {},
   "outputs": [
    {
     "data": {
      "text/plain": [
       "TailNum      object\n",
       "DepDelay    float64\n",
       "year         object\n",
       "dtype: object"
      ]
     },
     "execution_count": 20,
     "metadata": {},
     "output_type": "execute_result"
    }
   ],
   "source": [
    "Main_df.dtypes "
   ]
  },
  {
   "cell_type": "code",
   "execution_count": 21,
   "id": "50846410",
   "metadata": {},
   "outputs": [],
   "source": [
    "Main_df['year'] = Main_df['year'].astype(int)"
   ]
  },
  {
   "cell_type": "code",
   "execution_count": 22,
   "id": "75534248",
   "metadata": {},
   "outputs": [
    {
     "data": {
      "text/plain": [
       "year\n",
       "1956    34.962963\n",
       "1957    24.755287\n",
       "1959    36.471236\n",
       "1962    35.309701\n",
       "1963    37.601979\n",
       "1964    36.340070\n",
       "1965    39.590099\n",
       "1966    44.778511\n",
       "1967    34.633519\n",
       "1968    33.608138\n",
       "1969    33.494700\n",
       "1970    34.903712\n",
       "1971    35.320799\n",
       "1972    33.188073\n",
       "1973    33.247765\n",
       "1974    36.603906\n",
       "1975    34.196799\n",
       "1976    31.099636\n",
       "1977    31.700242\n",
       "1978    28.896320\n",
       "1979    32.483796\n",
       "1980    33.995660\n",
       "1982    32.374821\n",
       "1983    32.098233\n",
       "1984    28.224443\n",
       "1985    26.538504\n",
       "1986    29.125380\n",
       "1987    30.517505\n",
       "1988    30.489588\n",
       "1989    29.110906\n",
       "1990    29.468982\n",
       "1991    31.173906\n",
       "1992    30.431570\n",
       "1993    29.885110\n",
       "1994    31.020126\n",
       "1995    27.846065\n",
       "1996    30.844365\n",
       "1997    35.330634\n",
       "1998    31.775816\n",
       "1999    32.325946\n",
       "2000    31.376333\n",
       "2001    30.560835\n",
       "2002    33.247913\n",
       "2003    33.786374\n",
       "2004    30.931356\n",
       "2005    31.056623\n",
       "2006    29.170853\n",
       "2007    26.933506\n",
       "Name: DepDelay, dtype: float64"
      ]
     },
     "execution_count": 22,
     "metadata": {},
     "output_type": "execute_result"
    }
   ],
   "source": [
    "#Now grouping the departure delays by the year the plane was manufactured in, and obtaining mean of departure delay\n",
    "MeanDelay_by_year = Main_df.groupby('year')['DepDelay'].mean()\n",
    "MeanDelay_by_year"
   ]
  },
  {
   "cell_type": "code",
   "execution_count": 25,
   "id": "ada7bd39",
   "metadata": {},
   "outputs": [
    {
     "data": {
      "text/plain": [
       "[<matplotlib.lines.Line2D at 0x16d40e290>]"
      ]
     },
     "execution_count": 25,
     "metadata": {},
     "output_type": "execute_result"
    },
    {
     "data": {
      "image/png": "[encoded data removed]",
      "text/plain": [
       "<Figure size 1500x1000 with 1 Axes>"
      ]
     },
     "metadata": {},
     "output_type": "display_data"
    }
   ],
   "source": [
    "#Plotting a line graph to show the manufacture year of plane against the mean departure delay\n",
    "sns.set_style(\"darkgrid\")\n",
    "fig,ax = plt.subplots(figsize = (15, 10))\n",
    "plt.xticks(np.arange(min(MeanDelay_by_year.index), max(MeanDelay_by_year.index)+1, 1.0), rotation = 45)\n",
    "ax.set(xlabel = \"Year of manufacture of plane\", ylabel = \"Mean departure delay in minutes\")\n",
    "sns.lineplot(ax=ax, x = MeanDelay_by_year.index, y = MeanDelay_by_year.values)\n",
    "\n",
    "\n",
    "trend = np.poly1d(np.polyfit(MeanDelay_by_year.index, MeanDelay_by_year.values, 1))\n",
    "plt.plot(MeanDelay_by_year.index,trend(MeanDelay_by_year.index))"
   ]
  }
 ],
 "metadata": {
  "kernelspec": {
   "display_name": "Python 3 (ipykernel)",
   "language": "python",
   "name": "python3"
  },
  "language_info": {
   "codemirror_mode": {
    "name": "ipython",
    "version": 3
   },
   "file_extension": ".py",
   "mimetype": "text/x-python",
   "name": "python",
   "nbconvert_exporter": "python",
   "pygments_lexer": "ipython3",
   "version": "3.11.3"
  }
 },
 "nbformat": 4,
 "nbformat_minor": 5
}
